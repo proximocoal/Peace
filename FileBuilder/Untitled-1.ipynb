{
 "cells": [
  {
   "cell_type": "code",
   "execution_count": 1,
   "metadata": {},
   "outputs": [
    {
     "ename": "ModuleNotFoundError",
     "evalue": "No module named 'mock'",
     "output_type": "error",
     "traceback": [
      "\u001b[1;31m---------------------------------------------------------------------------\u001b[0m",
      "\u001b[1;31mModuleNotFoundError\u001b[0m                       Traceback (most recent call last)",
      "\u001b[1;32mc:\\Users\\conno\\Desktop\\PeaceProject\\FileBuilder\\Untitled-1.ipynb Cell 1\u001b[0m line \u001b[0;36m2\n\u001b[0;32m      <a href='vscode-notebook-cell:/c%3A/Users/conno/Desktop/PeaceProject/FileBuilder/Untitled-1.ipynb#W1sZmlsZQ%3D%3D?line=0'>1</a>\u001b[0m \u001b[39mfrom\u001b[39;00m \u001b[39mFileBuilder\u001b[39;00m \u001b[39mimport\u001b[39;00m FileBuilder\n\u001b[1;32m----> <a href='vscode-notebook-cell:/c%3A/Users/conno/Desktop/PeaceProject/FileBuilder/Untitled-1.ipynb#W1sZmlsZQ%3D%3D?line=1'>2</a>\u001b[0m \u001b[39mimport\u001b[39;00m \u001b[39mmock\u001b[39;00m\n\u001b[0;32m      <a href='vscode-notebook-cell:/c%3A/Users/conno/Desktop/PeaceProject/FileBuilder/Untitled-1.ipynb#W1sZmlsZQ%3D%3D?line=2'>3</a>\u001b[0m \u001b[39mimport\u001b[39;00m \u001b[39munittest\u001b[39;00m\n\u001b[0;32m      <a href='vscode-notebook-cell:/c%3A/Users/conno/Desktop/PeaceProject/FileBuilder/Untitled-1.ipynb#W1sZmlsZQ%3D%3D?line=4'>5</a>\u001b[0m \u001b[39mclass\u001b[39;00m \u001b[39mtestFileBuilder\u001b[39;00m(unittest\u001b[39m.\u001b[39mTestCase):\n",
      "\u001b[1;31mModuleNotFoundError\u001b[0m: No module named 'mock'"
     ]
    }
   ],
   "source": [
    "from FileBuilder import FileBuilder\n",
    "import unittest.mock\n",
    "import unittest\n",
    "\n",
    "class testFileBuilder(unittest.TestCase):\n",
    "\n",
    "    def setUp(self):\n",
    "        self.test = FileBuilder()\n",
    "    \n",
    "    def tearDown(self):\n",
    "        del self.test\n",
    "    \n",
    "    @mock.patch(\"FileBuilder.builtins\")\n",
    "    def test_make_file(self, mock_builtins):\n",
    "        self.test.file_name = \"TestFile\"\n",
    "        self.test.format = \"csv\"\n",
    "        self.test.overwrite = True\n",
    "        mock_builtins.open.assert_called_with(\"TestFile.csv\", \"w\")\n"
   ]
  }
 ],
 "metadata": {
  "kernelspec": {
   "display_name": "Python 3",
   "language": "python",
   "name": "python3"
  },
  "language_info": {
   "codemirror_mode": {
    "name": "ipython",
    "version": 3
   },
   "file_extension": ".py",
   "mimetype": "text/x-python",
   "name": "python",
   "nbconvert_exporter": "python",
   "pygments_lexer": "ipython3",
   "version": "3.11.6"
  }
 },
 "nbformat": 4,
 "nbformat_minor": 2
}
